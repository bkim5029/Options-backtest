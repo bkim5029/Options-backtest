{
 "cells": [
  {
   "cell_type": "code",
   "execution_count": 10,
   "id": "7887bf96",
   "metadata": {},
   "outputs": [],
   "source": [
    "import pandas as pd\n",
    "import matplotlib\n",
    "import matplotlib.pyplot as plt\n",
    "import seaborn as sns"
   ]
  },
  {
   "cell_type": "code",
   "execution_count": 11,
   "id": "eb7e98cb",
   "metadata": {},
   "outputs": [
    {
     "data": {
      "text/html": [
       "<div>\n",
       "<style scoped>\n",
       "    .dataframe tbody tr th:only-of-type {\n",
       "        vertical-align: middle;\n",
       "    }\n",
       "\n",
       "    .dataframe tbody tr th {\n",
       "        vertical-align: top;\n",
       "    }\n",
       "\n",
       "    .dataframe thead th {\n",
       "        text-align: right;\n",
       "    }\n",
       "</style>\n",
       "<table border=\"1\" class=\"dataframe\">\n",
       "  <thead>\n",
       "    <tr style=\"text-align: right;\">\n",
       "      <th></th>\n",
       "      <th>QUOTE_DATE</th>\n",
       "      <th>EXPIRE_DATE</th>\n",
       "      <th>LAST_PRICE</th>\n",
       "      <th>DTE</th>\n",
       "      <th>STRIKE</th>\n",
       "      <th>P_ASK</th>\n",
       "      <th>P_BID</th>\n",
       "      <th>P_DELTA</th>\n",
       "      <th>P_GAMMA</th>\n",
       "      <th>P_VEGA</th>\n",
       "      <th>P_THETA</th>\n",
       "      <th>P_VOLUME</th>\n",
       "      <th>P_IV</th>\n",
       "      <th>PROB_ITM</th>\n",
       "    </tr>\n",
       "  </thead>\n",
       "  <tbody>\n",
       "    <tr>\n",
       "      <th>0</th>\n",
       "      <td>2017-01-03</td>\n",
       "      <td>2017-01-06</td>\n",
       "      <td>116.14</td>\n",
       "      <td>3.00</td>\n",
       "      <td>70.0</td>\n",
       "      <td>0.01</td>\n",
       "      <td>0.00</td>\n",
       "      <td>-0.00095</td>\n",
       "      <td>0.00014</td>\n",
       "      <td>0.00038</td>\n",
       "      <td>-0.00405</td>\n",
       "      <td>0.0</td>\n",
       "      <td>1.58978</td>\n",
       "      <td>0.095</td>\n",
       "    </tr>\n",
       "    <tr>\n",
       "      <th>1</th>\n",
       "      <td>2017-01-03</td>\n",
       "      <td>2017-06-16</td>\n",
       "      <td>116.14</td>\n",
       "      <td>163.96</td>\n",
       "      <td>55.0</td>\n",
       "      <td>0.06</td>\n",
       "      <td>0.01</td>\n",
       "      <td>-0.00272</td>\n",
       "      <td>0.00022</td>\n",
       "      <td>0.00677</td>\n",
       "      <td>-0.00090</td>\n",
       "      <td>0.0</td>\n",
       "      <td>0.41986</td>\n",
       "      <td>0.272</td>\n",
       "    </tr>\n",
       "    <tr>\n",
       "      <th>2</th>\n",
       "      <td>2017-01-03</td>\n",
       "      <td>2017-06-16</td>\n",
       "      <td>116.14</td>\n",
       "      <td>163.96</td>\n",
       "      <td>60.0</td>\n",
       "      <td>0.06</td>\n",
       "      <td>0.05</td>\n",
       "      <td>-0.00534</td>\n",
       "      <td>0.00047</td>\n",
       "      <td>0.01165</td>\n",
       "      <td>-0.00175</td>\n",
       "      <td>200.0</td>\n",
       "      <td>0.40007</td>\n",
       "      <td>0.534</td>\n",
       "    </tr>\n",
       "    <tr>\n",
       "      <th>3</th>\n",
       "      <td>2017-01-03</td>\n",
       "      <td>2017-06-16</td>\n",
       "      <td>116.14</td>\n",
       "      <td>163.96</td>\n",
       "      <td>65.0</td>\n",
       "      <td>0.10</td>\n",
       "      <td>0.07</td>\n",
       "      <td>-0.00775</td>\n",
       "      <td>0.00070</td>\n",
       "      <td>0.01646</td>\n",
       "      <td>-0.00229</td>\n",
       "      <td>0.0</td>\n",
       "      <td>0.37233</td>\n",
       "      <td>0.775</td>\n",
       "    </tr>\n",
       "    <tr>\n",
       "      <th>4</th>\n",
       "      <td>2017-01-03</td>\n",
       "      <td>2017-06-16</td>\n",
       "      <td>116.14</td>\n",
       "      <td>163.96</td>\n",
       "      <td>70.0</td>\n",
       "      <td>0.16</td>\n",
       "      <td>0.12</td>\n",
       "      <td>-0.01377</td>\n",
       "      <td>0.00122</td>\n",
       "      <td>0.02675</td>\n",
       "      <td>-0.00258</td>\n",
       "      <td>0.0</td>\n",
       "      <td>0.35499</td>\n",
       "      <td>1.377</td>\n",
       "    </tr>\n",
       "    <tr>\n",
       "      <th>...</th>\n",
       "      <td>...</td>\n",
       "      <td>...</td>\n",
       "      <td>...</td>\n",
       "      <td>...</td>\n",
       "      <td>...</td>\n",
       "      <td>...</td>\n",
       "      <td>...</td>\n",
       "      <td>...</td>\n",
       "      <td>...</td>\n",
       "      <td>...</td>\n",
       "      <td>...</td>\n",
       "      <td>...</td>\n",
       "      <td>...</td>\n",
       "      <td>...</td>\n",
       "    </tr>\n",
       "    <tr>\n",
       "      <th>859908</th>\n",
       "      <td>2020-12-31</td>\n",
       "      <td>2021-01-29</td>\n",
       "      <td>132.60</td>\n",
       "      <td>29.00</td>\n",
       "      <td>190.0</td>\n",
       "      <td>57.50</td>\n",
       "      <td>56.90</td>\n",
       "      <td>-1.00000</td>\n",
       "      <td>0.00000</td>\n",
       "      <td>0.40359</td>\n",
       "      <td>0.00000</td>\n",
       "      <td>0.0</td>\n",
       "      <td>0.00000</td>\n",
       "      <td>100.000</td>\n",
       "    </tr>\n",
       "    <tr>\n",
       "      <th>859909</th>\n",
       "      <td>2020-12-31</td>\n",
       "      <td>2021-01-29</td>\n",
       "      <td>132.60</td>\n",
       "      <td>29.00</td>\n",
       "      <td>185.0</td>\n",
       "      <td>52.56</td>\n",
       "      <td>51.95</td>\n",
       "      <td>-1.00000</td>\n",
       "      <td>0.00000</td>\n",
       "      <td>0.40395</td>\n",
       "      <td>0.00000</td>\n",
       "      <td>0.0</td>\n",
       "      <td>0.00000</td>\n",
       "      <td>100.000</td>\n",
       "    </tr>\n",
       "    <tr>\n",
       "      <th>859910</th>\n",
       "      <td>2020-12-31</td>\n",
       "      <td>2021-01-29</td>\n",
       "      <td>132.60</td>\n",
       "      <td>29.00</td>\n",
       "      <td>180.0</td>\n",
       "      <td>47.60</td>\n",
       "      <td>47.00</td>\n",
       "      <td>-1.00000</td>\n",
       "      <td>0.00000</td>\n",
       "      <td>0.40429</td>\n",
       "      <td>0.00000</td>\n",
       "      <td>0.0</td>\n",
       "      <td>0.00000</td>\n",
       "      <td>100.000</td>\n",
       "    </tr>\n",
       "    <tr>\n",
       "      <th>859911</th>\n",
       "      <td>2020-12-31</td>\n",
       "      <td>2021-02-05</td>\n",
       "      <td>132.60</td>\n",
       "      <td>36.00</td>\n",
       "      <td>75.0</td>\n",
       "      <td>0.17</td>\n",
       "      <td>0.07</td>\n",
       "      <td>-0.00890</td>\n",
       "      <td>0.00071</td>\n",
       "      <td>0.01041</td>\n",
       "      <td>-0.01168</td>\n",
       "      <td>0.0</td>\n",
       "      <td>0.80270</td>\n",
       "      <td>0.890</td>\n",
       "    </tr>\n",
       "    <tr>\n",
       "      <th>859912</th>\n",
       "      <td>2020-12-31</td>\n",
       "      <td>2023-03-17</td>\n",
       "      <td>132.60</td>\n",
       "      <td>805.96</td>\n",
       "      <td>200.0</td>\n",
       "      <td>77.55</td>\n",
       "      <td>75.60</td>\n",
       "      <td>-0.67664</td>\n",
       "      <td>0.00406</td>\n",
       "      <td>0.66031</td>\n",
       "      <td>-0.01416</td>\n",
       "      <td>4.0</td>\n",
       "      <td>0.34749</td>\n",
       "      <td>67.664</td>\n",
       "    </tr>\n",
       "  </tbody>\n",
       "</table>\n",
       "<p>859913 rows × 14 columns</p>\n",
       "</div>"
      ],
      "text/plain": [
       "        QUOTE_DATE EXPIRE_DATE  LAST_PRICE     DTE  STRIKE  P_ASK  P_BID  \\\n",
       "0       2017-01-03  2017-01-06      116.14    3.00    70.0   0.01   0.00   \n",
       "1       2017-01-03  2017-06-16      116.14  163.96    55.0   0.06   0.01   \n",
       "2       2017-01-03  2017-06-16      116.14  163.96    60.0   0.06   0.05   \n",
       "3       2017-01-03  2017-06-16      116.14  163.96    65.0   0.10   0.07   \n",
       "4       2017-01-03  2017-06-16      116.14  163.96    70.0   0.16   0.12   \n",
       "...            ...         ...         ...     ...     ...    ...    ...   \n",
       "859908  2020-12-31  2021-01-29      132.60   29.00   190.0  57.50  56.90   \n",
       "859909  2020-12-31  2021-01-29      132.60   29.00   185.0  52.56  51.95   \n",
       "859910  2020-12-31  2021-01-29      132.60   29.00   180.0  47.60  47.00   \n",
       "859911  2020-12-31  2021-02-05      132.60   36.00    75.0   0.17   0.07   \n",
       "859912  2020-12-31  2023-03-17      132.60  805.96   200.0  77.55  75.60   \n",
       "\n",
       "        P_DELTA  P_GAMMA   P_VEGA  P_THETA  P_VOLUME     P_IV  PROB_ITM  \n",
       "0      -0.00095  0.00014  0.00038 -0.00405       0.0  1.58978     0.095  \n",
       "1      -0.00272  0.00022  0.00677 -0.00090       0.0  0.41986     0.272  \n",
       "2      -0.00534  0.00047  0.01165 -0.00175     200.0  0.40007     0.534  \n",
       "3      -0.00775  0.00070  0.01646 -0.00229       0.0  0.37233     0.775  \n",
       "4      -0.01377  0.00122  0.02675 -0.00258       0.0  0.35499     1.377  \n",
       "...         ...      ...      ...      ...       ...      ...       ...  \n",
       "859908 -1.00000  0.00000  0.40359  0.00000       0.0  0.00000   100.000  \n",
       "859909 -1.00000  0.00000  0.40395  0.00000       0.0  0.00000   100.000  \n",
       "859910 -1.00000  0.00000  0.40429  0.00000       0.0  0.00000   100.000  \n",
       "859911 -0.00890  0.00071  0.01041 -0.01168       0.0  0.80270     0.890  \n",
       "859912 -0.67664  0.00406  0.66031 -0.01416       4.0  0.34749    67.664  \n",
       "\n",
       "[859913 rows x 14 columns]"
      ]
     },
     "execution_count": 11,
     "metadata": {},
     "output_type": "execute_result"
    }
   ],
   "source": [
    "aapl_put_df = pd.read_csv('C:\\\\Users\\\\bkim5\\\\EVERYTHING CODING\\\\PROJECT\\\\Options project\\\\2. Data Wrangling\\\\aapl_put_df.csv')\n",
    "aapl_put_df"
   ]
  },
  {
   "cell_type": "markdown",
   "id": "348db979",
   "metadata": {},
   "source": [
    "# Relationship between each greek values and strike price"
   ]
  },
  {
   "cell_type": "markdown",
   "id": "426bd8c0",
   "metadata": {},
   "source": [
    "Compare different expiration date of each option and expire date can be chosen at random within its own dte dataframe"
   ]
  },
  {
   "cell_type": "code",
   "execution_count": 12,
   "id": "ae81e6ee",
   "metadata": {},
   "outputs": [
    {
     "data": {
      "text/html": [
       "<div>\n",
       "<style scoped>\n",
       "    .dataframe tbody tr th:only-of-type {\n",
       "        vertical-align: middle;\n",
       "    }\n",
       "\n",
       "    .dataframe tbody tr th {\n",
       "        vertical-align: top;\n",
       "    }\n",
       "\n",
       "    .dataframe thead th {\n",
       "        text-align: right;\n",
       "    }\n",
       "</style>\n",
       "<table border=\"1\" class=\"dataframe\">\n",
       "  <thead>\n",
       "    <tr style=\"text-align: right;\">\n",
       "      <th></th>\n",
       "      <th>QUOTE_DATE</th>\n",
       "      <th>EXPIRE_DATE</th>\n",
       "      <th>LAST_PRICE</th>\n",
       "      <th>DTE</th>\n",
       "      <th>STRIKE</th>\n",
       "      <th>P_ASK</th>\n",
       "      <th>P_BID</th>\n",
       "      <th>P_DELTA</th>\n",
       "      <th>P_GAMMA</th>\n",
       "      <th>P_VEGA</th>\n",
       "      <th>P_THETA</th>\n",
       "      <th>P_VOLUME</th>\n",
       "      <th>P_IV</th>\n",
       "      <th>PROB_ITM</th>\n",
       "    </tr>\n",
       "  </thead>\n",
       "  <tbody>\n",
       "    <tr>\n",
       "      <th>0</th>\n",
       "      <td>2017-01-03</td>\n",
       "      <td>2017-01-06</td>\n",
       "      <td>116.14</td>\n",
       "      <td>3.0</td>\n",
       "      <td>70.0</td>\n",
       "      <td>0.01</td>\n",
       "      <td>0.00</td>\n",
       "      <td>-0.00095</td>\n",
       "      <td>0.00014</td>\n",
       "      <td>0.00038</td>\n",
       "      <td>-0.00405</td>\n",
       "      <td>0.0</td>\n",
       "      <td>1.58978</td>\n",
       "      <td>0.095</td>\n",
       "    </tr>\n",
       "    <tr>\n",
       "      <th>374</th>\n",
       "      <td>2017-01-03</td>\n",
       "      <td>2017-01-06</td>\n",
       "      <td>116.14</td>\n",
       "      <td>3.0</td>\n",
       "      <td>112.0</td>\n",
       "      <td>0.08</td>\n",
       "      <td>0.05</td>\n",
       "      <td>-0.05413</td>\n",
       "      <td>0.04265</td>\n",
       "      <td>0.01376</td>\n",
       "      <td>-0.03221</td>\n",
       "      <td>0.0</td>\n",
       "      <td>0.21260</td>\n",
       "      <td>5.413</td>\n",
       "    </tr>\n",
       "    <tr>\n",
       "      <th>375</th>\n",
       "      <td>2017-01-03</td>\n",
       "      <td>2017-01-06</td>\n",
       "      <td>116.14</td>\n",
       "      <td>3.0</td>\n",
       "      <td>113.0</td>\n",
       "      <td>0.10</td>\n",
       "      <td>0.09</td>\n",
       "      <td>-0.08909</td>\n",
       "      <td>0.06973</td>\n",
       "      <td>0.01964</td>\n",
       "      <td>-0.04434</td>\n",
       "      <td>0.0</td>\n",
       "      <td>0.18950</td>\n",
       "      <td>8.909</td>\n",
       "    </tr>\n",
       "    <tr>\n",
       "      <th>376</th>\n",
       "      <td>2017-01-03</td>\n",
       "      <td>2017-01-06</td>\n",
       "      <td>116.14</td>\n",
       "      <td>3.0</td>\n",
       "      <td>114.0</td>\n",
       "      <td>0.17</td>\n",
       "      <td>0.15</td>\n",
       "      <td>-0.15391</td>\n",
       "      <td>0.11636</td>\n",
       "      <td>0.02849</td>\n",
       "      <td>-0.06332</td>\n",
       "      <td>0.0</td>\n",
       "      <td>0.16739</td>\n",
       "      <td>15.391</td>\n",
       "    </tr>\n",
       "    <tr>\n",
       "      <th>377</th>\n",
       "      <td>2017-01-03</td>\n",
       "      <td>2017-01-06</td>\n",
       "      <td>116.14</td>\n",
       "      <td>3.0</td>\n",
       "      <td>115.0</td>\n",
       "      <td>0.38</td>\n",
       "      <td>0.36</td>\n",
       "      <td>-0.29447</td>\n",
       "      <td>0.17497</td>\n",
       "      <td>0.04166</td>\n",
       "      <td>-0.09600</td>\n",
       "      <td>0.0</td>\n",
       "      <td>0.16181</td>\n",
       "      <td>29.447</td>\n",
       "    </tr>\n",
       "    <tr>\n",
       "      <th>...</th>\n",
       "      <td>...</td>\n",
       "      <td>...</td>\n",
       "      <td>...</td>\n",
       "      <td>...</td>\n",
       "      <td>...</td>\n",
       "      <td>...</td>\n",
       "      <td>...</td>\n",
       "      <td>...</td>\n",
       "      <td>...</td>\n",
       "      <td>...</td>\n",
       "      <td>...</td>\n",
       "      <td>...</td>\n",
       "      <td>...</td>\n",
       "      <td>...</td>\n",
       "    </tr>\n",
       "    <tr>\n",
       "      <th>856369</th>\n",
       "      <td>2020-12-28</td>\n",
       "      <td>2020-12-31</td>\n",
       "      <td>136.73</td>\n",
       "      <td>3.0</td>\n",
       "      <td>117.0</td>\n",
       "      <td>0.02</td>\n",
       "      <td>0.01</td>\n",
       "      <td>-0.00540</td>\n",
       "      <td>0.00183</td>\n",
       "      <td>0.00182</td>\n",
       "      <td>-0.01177</td>\n",
       "      <td>210.0</td>\n",
       "      <td>0.59265</td>\n",
       "      <td>0.540</td>\n",
       "    </tr>\n",
       "    <tr>\n",
       "      <th>856370</th>\n",
       "      <td>2020-12-28</td>\n",
       "      <td>2020-12-31</td>\n",
       "      <td>136.73</td>\n",
       "      <td>3.0</td>\n",
       "      <td>118.0</td>\n",
       "      <td>0.02</td>\n",
       "      <td>0.02</td>\n",
       "      <td>-0.00557</td>\n",
       "      <td>0.00210</td>\n",
       "      <td>0.00238</td>\n",
       "      <td>-0.01137</td>\n",
       "      <td>373.0</td>\n",
       "      <td>0.56473</td>\n",
       "      <td>0.557</td>\n",
       "    </tr>\n",
       "    <tr>\n",
       "      <th>856371</th>\n",
       "      <td>2020-12-28</td>\n",
       "      <td>2020-12-31</td>\n",
       "      <td>136.73</td>\n",
       "      <td>3.0</td>\n",
       "      <td>119.0</td>\n",
       "      <td>0.02</td>\n",
       "      <td>0.00</td>\n",
       "      <td>-0.00626</td>\n",
       "      <td>0.00221</td>\n",
       "      <td>0.00261</td>\n",
       "      <td>-0.01133</td>\n",
       "      <td>270.0</td>\n",
       "      <td>0.53472</td>\n",
       "      <td>0.626</td>\n",
       "    </tr>\n",
       "    <tr>\n",
       "      <th>856372</th>\n",
       "      <td>2020-12-28</td>\n",
       "      <td>2020-12-31</td>\n",
       "      <td>136.73</td>\n",
       "      <td>3.0</td>\n",
       "      <td>120.0</td>\n",
       "      <td>0.02</td>\n",
       "      <td>0.01</td>\n",
       "      <td>-0.00664</td>\n",
       "      <td>0.00247</td>\n",
       "      <td>0.00209</td>\n",
       "      <td>-0.01118</td>\n",
       "      <td>0.0</td>\n",
       "      <td>0.50423</td>\n",
       "      <td>0.664</td>\n",
       "    </tr>\n",
       "    <tr>\n",
       "      <th>856373</th>\n",
       "      <td>2020-12-28</td>\n",
       "      <td>2020-12-31</td>\n",
       "      <td>136.73</td>\n",
       "      <td>3.0</td>\n",
       "      <td>122.0</td>\n",
       "      <td>0.04</td>\n",
       "      <td>0.03</td>\n",
       "      <td>-0.01060</td>\n",
       "      <td>0.00411</td>\n",
       "      <td>0.00423</td>\n",
       "      <td>-0.01759</td>\n",
       "      <td>0.0</td>\n",
       "      <td>0.47741</td>\n",
       "      <td>1.060</td>\n",
       "    </tr>\n",
       "  </tbody>\n",
       "</table>\n",
       "<p>12802 rows × 14 columns</p>\n",
       "</div>"
      ],
      "text/plain": [
       "        QUOTE_DATE EXPIRE_DATE  LAST_PRICE  DTE  STRIKE  P_ASK  P_BID  \\\n",
       "0       2017-01-03  2017-01-06      116.14  3.0    70.0   0.01   0.00   \n",
       "374     2017-01-03  2017-01-06      116.14  3.0   112.0   0.08   0.05   \n",
       "375     2017-01-03  2017-01-06      116.14  3.0   113.0   0.10   0.09   \n",
       "376     2017-01-03  2017-01-06      116.14  3.0   114.0   0.17   0.15   \n",
       "377     2017-01-03  2017-01-06      116.14  3.0   115.0   0.38   0.36   \n",
       "...            ...         ...         ...  ...     ...    ...    ...   \n",
       "856369  2020-12-28  2020-12-31      136.73  3.0   117.0   0.02   0.01   \n",
       "856370  2020-12-28  2020-12-31      136.73  3.0   118.0   0.02   0.02   \n",
       "856371  2020-12-28  2020-12-31      136.73  3.0   119.0   0.02   0.00   \n",
       "856372  2020-12-28  2020-12-31      136.73  3.0   120.0   0.02   0.01   \n",
       "856373  2020-12-28  2020-12-31      136.73  3.0   122.0   0.04   0.03   \n",
       "\n",
       "        P_DELTA  P_GAMMA   P_VEGA  P_THETA  P_VOLUME     P_IV  PROB_ITM  \n",
       "0      -0.00095  0.00014  0.00038 -0.00405       0.0  1.58978     0.095  \n",
       "374    -0.05413  0.04265  0.01376 -0.03221       0.0  0.21260     5.413  \n",
       "375    -0.08909  0.06973  0.01964 -0.04434       0.0  0.18950     8.909  \n",
       "376    -0.15391  0.11636  0.02849 -0.06332       0.0  0.16739    15.391  \n",
       "377    -0.29447  0.17497  0.04166 -0.09600       0.0  0.16181    29.447  \n",
       "...         ...      ...      ...      ...       ...      ...       ...  \n",
       "856369 -0.00540  0.00183  0.00182 -0.01177     210.0  0.59265     0.540  \n",
       "856370 -0.00557  0.00210  0.00238 -0.01137     373.0  0.56473     0.557  \n",
       "856371 -0.00626  0.00221  0.00261 -0.01133     270.0  0.53472     0.626  \n",
       "856372 -0.00664  0.00247  0.00209 -0.01118       0.0  0.50423     0.664  \n",
       "856373 -0.01060  0.00411  0.00423 -0.01759       0.0  0.47741     1.060  \n",
       "\n",
       "[12802 rows x 14 columns]"
      ]
     },
     "execution_count": 12,
     "metadata": {},
     "output_type": "execute_result"
    }
   ],
   "source": [
    "aapl_put_df.loc[(aapl_put_df['DTE'] == 3)]"
   ]
  },
  {
   "cell_type": "code",
   "execution_count": 13,
   "id": "01faa054",
   "metadata": {},
   "outputs": [],
   "source": [
    "early_dte = aapl_put_df.loc[(aapl_put_df['DTE'] == 3) & (aapl_put_df['EXPIRE_DATE'] == '2017-01-06')]\n",
    "early_dte = early_dte.sort_values(by=['STRIKE'])\n",
    "early_dte = early_dte.reset_index(drop=True)\n",
    "\n",
    "mid_dte = aapl_put_df.loc[(aapl_put_df['DTE'] == 30) & (aapl_put_df['EXPIRE_DATE'] == '2017-02-03')]\n",
    "mid_dte = mid_dte.sort_values(by=['STRIKE'])\n",
    "mid_dte = mid_dte.reset_index(drop=True)\n",
    "\n",
    "late_dte = aapl_put_df.loc[(aapl_put_df['DTE'] == 350) & (aapl_put_df['EXPIRE_DATE'] == '2018-01-19')]\n",
    "late_dte = late_dte.sort_values(by=['STRIKE'])\n",
    "late_dte = late_dte.reset_index(drop=True)"
   ]
  },
  {
   "cell_type": "markdown",
   "id": "5967756c",
   "metadata": {},
   "source": [
    "# EARLY DTE"
   ]
  },
  {
   "cell_type": "code",
   "execution_count": 14,
   "id": "c5c9dae4",
   "metadata": {},
   "outputs": [],
   "source": [
    "early_strike = early_dte['STRIKE'].tolist()\n",
    "early_pdelta = early_dte['P_DELTA'].tolist()\n",
    "early_ptheta = early_dte['P_THETA'].tolist()\n",
    "early_pvega = early_dte['P_VEGA'].tolist()\n",
    "early_pgamma = early_dte['P_GAMMA'].tolist()\n",
    "early_last_price = early_dte['LAST_PRICE'][0]"
   ]
  },
  {
   "cell_type": "code",
   "execution_count": 15,
   "id": "c23e0623",
   "metadata": {},
   "outputs": [
    {
     "data": {
      "image/png": "[encoded data removed]",
      "text/plain": [
       "<Figure size 432x288 with 1 Axes>"
      ]
     },
     "metadata": {
      "needs_background": "light"
     },
     "output_type": "display_data"
    },
    {
     "data": {
      "image/png": "[encoded data removed]",
      "text/plain": [
       "<Figure size 432x288 with 1 Axes>"
      ]
     },
     "metadata": {
      "needs_background": "light"
     },
     "output_type": "display_data"
    },
    {
     "data": {
      "image/png": "[encoded data removed]",
      "text/plain": [
       "<Figure size 432x288 with 1 Axes>"
      ]
     },
     "metadata": {
      "needs_background": "light"
     },
     "output_type": "display_data"
    },
    {
     "data": {
      "image/png": "[encoded data removed]",
      "text/plain": [
       "<Figure size 432x288 with 1 Axes>"
      ]
     },
     "metadata": {
      "needs_background": "light"
     },
     "output_type": "display_data"
    }
   ],
   "source": [
    "plt.scatter(early_strike, early_pdelta)\n",
    "plt.vlines(early_last_price,min(early_pdelta), max(early_pdelta), color='green', label='C_PRICE')\n",
    "plt.xlabel('STRIKE', fontsize = 14, fontweight='bold')\n",
    "plt.ylabel('DELTA', fontsize = 14, fontweight='bold')\n",
    "plt.title('STRIKE vs DELTA', fontsize = 14, fontweight='bold')\n",
    "plt.legend()\n",
    "plt.show()\n",
    "\n",
    "plt.scatter(early_strike, early_pvega)\n",
    "plt.vlines(early_last_price,min(early_pvega), max(early_pvega), color='green', label='C_PRICE')\n",
    "plt.xlabel('STRIKE', fontsize = 14, fontweight='bold')\n",
    "plt.ylabel('VEGA', fontsize = 14, fontweight='bold')\n",
    "plt.title('STRIKE vs VEGA', fontsize = 14, fontweight='bold')\n",
    "plt.legend()\n",
    "plt.show()\n",
    "\n",
    "plt.scatter(early_strike, early_ptheta)\n",
    "plt.vlines(early_last_price,min(early_ptheta), max(early_ptheta), color='green', label='C_PRICE')\n",
    "plt.xlabel('STRIKE', fontsize = 14, fontweight='bold')\n",
    "plt.ylabel('THETA', fontsize = 14, fontweight='bold')\n",
    "plt.title('STRIKE vs THETA', fontsize = 14, fontweight='bold')\n",
    "plt.legend()\n",
    "plt.show()\n",
    "\n",
    "plt.scatter(early_strike, early_pgamma)\n",
    "plt.vlines(early_last_price,min(early_pgamma), max(early_pgamma), color='green', label='C_PRICE')\n",
    "plt.xlabel('STRIKE', fontsize = 14, fontweight='bold')\n",
    "plt.ylabel('GAMMA', fontsize = 14, fontweight='bold')\n",
    "plt.title('STRIKE vs GAMMA', fontsize = 14, fontweight='bold')\n",
    "plt.legend()\n",
    "plt.show()"
   ]
  },
  {
   "cell_type": "markdown",
   "id": "6c9243b7",
   "metadata": {},
   "source": [
    "When trading early dte options, every greek values are extremely volatile around the current stock price and any small movement will make a big impact."
   ]
  },
  {
   "cell_type": "markdown",
   "id": "cd4f1ec9",
   "metadata": {},
   "source": [
    "# MID DTE"
   ]
  },
  {
   "cell_type": "code",
   "execution_count": 16,
   "id": "47c52756",
   "metadata": {},
   "outputs": [],
   "source": [
    "mid_strike = mid_dte['STRIKE'].tolist()\n",
    "mid_pdelta = mid_dte['P_DELTA'].tolist()\n",
    "mid_ptheta = mid_dte['P_THETA'].tolist()\n",
    "mid_pvega = mid_dte['P_VEGA'].tolist()\n",
    "mid_pgamma = mid_dte['P_GAMMA'].tolist()\n",
    "mid_last_price = mid_dte['LAST_PRICE'][0]"
   ]
  },
  {
   "cell_type": "code",
   "execution_count": 17,
   "id": "f8f58146",
   "metadata": {},
   "outputs": [
    {
     "data": {
      "image/png": "[encoded data removed]",
      "text/plain": [
       "<Figure size 432x288 with 1 Axes>"
      ]
     },
     "metadata": {
      "needs_background": "light"
     },
     "output_type": "display_data"
    },
    {
     "data": {
      "image/png": "[encoded data removed]",
      "text/plain": [
       "<Figure size 432x288 with 1 Axes>"
      ]
     },
     "metadata": {
      "needs_background": "light"
     },
     "output_type": "display_data"
    },
    {
     "data": {
      "image/png": "[encoded data removed]",
      "text/plain": [
       "<Figure size 432x288 with 1 Axes>"
      ]
     },
     "metadata": {
      "needs_background": "light"
     },
     "output_type": "display_data"
    },
    {
     "data": {
      "image/png": "[encoded data removed]",
      "text/plain": [
       "<Figure size 432x288 with 1 Axes>"
      ]
     },
     "metadata": {
      "needs_background": "light"
     },
     "output_type": "display_data"
    }
   ],
   "source": [
    "plt.scatter(mid_strike, mid_pdelta)\n",
    "plt.vlines(mid_last_price,min(mid_pdelta), max(mid_pdelta), color='green', label='C_PRICE')\n",
    "plt.xlabel('STRIKE', fontsize = 14, fontweight='bold')\n",
    "plt.ylabel('DELTA', fontsize = 14, fontweight='bold')\n",
    "plt.title('STRIKE vs DELTA', fontsize = 14, fontweight='bold')\n",
    "plt.legend()\n",
    "plt.show()\n",
    "\n",
    "plt.scatter(mid_strike, mid_pvega)\n",
    "plt.vlines(mid_last_price,min(mid_pvega), max(mid_pvega), color='green', label='C_PRICE')\n",
    "plt.xlabel('STRIKE', fontsize = 14, fontweight='bold')\n",
    "plt.ylabel('VEGA', fontsize = 14, fontweight='bold')\n",
    "plt.title('STRIKE vs VEGA', fontsize = 14, fontweight='bold')\n",
    "plt.legend()\n",
    "plt.show()\n",
    "\n",
    "plt.scatter(mid_strike, mid_ptheta)\n",
    "plt.vlines(mid_last_price,min(mid_ptheta), max(mid_ptheta), color='green', label='C_PRICE')\n",
    "plt.xlabel('STRIKE', fontsize = 14, fontweight='bold')\n",
    "plt.ylabel('THETA', fontsize = 14, fontweight='bold')\n",
    "plt.title('STRIKE vs THETA', fontsize = 14, fontweight='bold')\n",
    "plt.legend()\n",
    "plt.show()\n",
    "\n",
    "plt.scatter(mid_strike, mid_pgamma)\n",
    "plt.vlines(mid_last_price,min(mid_pgamma), max(mid_pgamma), color='green', label='C_PRICE')\n",
    "plt.xlabel('STRIKE', fontsize = 14, fontweight='bold')\n",
    "plt.ylabel('GAMMA', fontsize = 14, fontweight='bold')\n",
    "plt.title('STRIKE vs GAMMA', fontsize = 14, fontweight='bold')\n",
    "plt.legend()\n",
    "plt.show()"
   ]
  },
  {
   "cell_type": "markdown",
   "id": "69d240e9",
   "metadata": {},
   "source": [
    "The movement of greek value has a steady flow and it is not as volatile as the early dte options."
   ]
  },
  {
   "cell_type": "markdown",
   "id": "14956933",
   "metadata": {},
   "source": [
    "# LATE DTE"
   ]
  },
  {
   "cell_type": "code",
   "execution_count": 18,
   "id": "d33f012f",
   "metadata": {},
   "outputs": [],
   "source": [
    "late_strike = late_dte['STRIKE'].tolist()\n",
    "late_pdelta = late_dte['P_DELTA'].tolist()\n",
    "late_ptheta = late_dte['P_THETA'].tolist()\n",
    "late_pvega = late_dte['P_VEGA'].tolist()\n",
    "late_pgamma = late_dte['P_GAMMA'].tolist()\n",
    "late_last_price = late_dte['LAST_PRICE'][0]"
   ]
  },
  {
   "cell_type": "code",
   "execution_count": 19,
   "id": "aee1bd71",
   "metadata": {},
   "outputs": [
    {
     "data": {
      "image/png": "[encoded data removed]",
      "text/plain": [
       "<Figure size 432x288 with 1 Axes>"
      ]
     },
     "metadata": {
      "needs_background": "light"
     },
     "output_type": "display_data"
    },
    {
     "data": {
      "image/png": "[encoded data removed]",
      "text/plain": [
       "<Figure size 432x288 with 1 Axes>"
      ]
     },
     "metadata": {
      "needs_background": "light"
     },
     "output_type": "display_data"
    },
    {
     "data": {
      "image/png": "[encoded data removed]",
      "text/plain": [
       "<Figure size 432x288 with 1 Axes>"
      ]
     },
     "metadata": {
      "needs_background": "light"
     },
     "output_type": "display_data"
    },
    {
     "data": {
      "image/png": "[encoded data removed]",
      "text/plain": [
       "<Figure size 432x288 with 1 Axes>"
      ]
     },
     "metadata": {
      "needs_background": "light"
     },
     "output_type": "display_data"
    }
   ],
   "source": [
    "plt.scatter(late_strike, late_pdelta)\n",
    "plt.vlines(late_last_price,min(late_pdelta), max(late_pdelta), color='green', label='C_PRICE')\n",
    "plt.xlabel('STRIKE', fontsize = 14, fontweight='bold')\n",
    "plt.ylabel('DELTA', fontsize = 14, fontweight='bold')\n",
    "plt.title('STRIKE vs DELTA', fontsize = 14, fontweight='bold')\n",
    "plt.legend()\n",
    "plt.show()\n",
    "\n",
    "plt.scatter(late_strike, late_pvega)\n",
    "plt.vlines(late_last_price,min(late_pvega), max(late_pvega), color='green', label='C_PRICE')\n",
    "plt.xlabel('STRIKE', fontsize = 14, fontweight='bold')\n",
    "plt.ylabel('VEGA', fontsize = 14, fontweight='bold')\n",
    "plt.title('STRIKE vs VEGA', fontsize = 14, fontweight='bold')\n",
    "plt.legend()\n",
    "plt.show()\n",
    "\n",
    "plt.scatter(late_strike, late_ptheta)\n",
    "plt.vlines(late_last_price,min(late_ptheta), max(late_ptheta), color='green', label='C_PRICE')\n",
    "plt.xlabel('STRIKE', fontsize = 14, fontweight='bold')\n",
    "plt.ylabel('THETA', fontsize = 14, fontweight='bold')\n",
    "plt.title('STRIKE vs THETA', fontsize = 14, fontweight='bold')\n",
    "plt.legend()\n",
    "plt.show()\n",
    "\n",
    "plt.scatter(late_strike, late_pgamma)\n",
    "plt.vlines(late_last_price,min(late_pgamma), max(late_pgamma), color='green', label='C_PRICE')\n",
    "plt.xlabel('STRIKE', fontsize = 14, fontweight='bold')\n",
    "plt.ylabel('GAMMA', fontsize = 14, fontweight='bold')\n",
    "plt.title('STRIKE vs GAMMA', fontsize = 14, fontweight='bold')\n",
    "plt.legend()\n",
    "plt.show()"
   ]
  },
  {
   "cell_type": "markdown",
   "id": "1652a7be",
   "metadata": {},
   "source": [
    "Late dte options seems to follow similar pattern as mid dte but the increment values of the greeks are very small compared to mid and late dte options.\n",
    "\n",
    "However, delta shared a similar graph as mid dte options meaning the only greek that will make a difference in this option contract is delta.  "
   ]
  },
  {
   "cell_type": "markdown",
   "id": "a936bf2b",
   "metadata": {},
   "source": [
    "# CONCLUSION\n",
    "- Early dte is very volatile around the current stock price and stable as you go further out of the current price.\n",
    "\n",
    "- Mid dte is much stable and follows a steady flow which protects option price from sudden changes.\n",
    "\n",
    "- Late dte greek movement is very minimal and the only greek that will make option price change is delta.\n",
    "\n",
    "- When the strike price is at a extreme high, greek movements are unpredictable because there is not enough options being traded in that strike price."
   ]
  },
  {
   "cell_type": "code",
   "execution_count": null,
   "id": "430efe81",
   "metadata": {},
   "outputs": [],
   "source": []
  }
 ],
 "metadata": {
  "kernelspec": {
   "display_name": "Python 3",
   "language": "python",
   "name": "python3"
  },
  "language_info": {
   "codemirror_mode": {
    "name": "ipython",
    "version": 3
   },
   "file_extension": ".py",
   "mimetype": "text/x-python",
   "name": "python",
   "nbconvert_exporter": "python",
   "pygments_lexer": "ipython3",
   "version": "3.8.8"
  }
 },
 "nbformat": 4,
 "nbformat_minor": 5
}
