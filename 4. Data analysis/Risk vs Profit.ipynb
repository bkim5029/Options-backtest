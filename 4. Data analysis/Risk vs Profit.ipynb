{
 "cells": [
  {
   "cell_type": "code",
   "execution_count": 2,
   "id": "6712ad36",
   "metadata": {},
   "outputs": [],
   "source": [
    "import pandas as pd"
   ]
  },
  {
   "cell_type": "code",
   "execution_count": 1,
   "id": "c63b06cc",
   "metadata": {},
   "outputs": [
    {
     "name": "stdout",
     "output_type": "stream",
     "text": [
      "\n",
      "Variables: put_sell_study_dict\n",
      "           profit_put_sell_study_dict\n",
      "           loss_put_sell_study_dict\n",
      "\n"
     ]
    }
   ],
   "source": [
    "%run AnalysisHelperFile.ipynb"
   ]
  },
  {
   "cell_type": "code",
   "execution_count": 3,
   "id": "e0809508",
   "metadata": {},
   "outputs": [
    {
     "name": "stdout",
     "output_type": "stream",
     "text": [
      "naked_50 profit: 91.43000000000002\n",
      "naked_dte profit: 50.065\n",
      "verticle_50 profit: 28.35\n",
      "verticle_dte profit: 15.15\n"
     ]
    }
   ],
   "source": [
    "for study in put_sell_study_dict:\n",
    "    print(study, 'profit:', put_sell_study_dict[study]['PROFIT'].sum())"
   ]
  },
  {
   "cell_type": "code",
   "execution_count": 4,
   "id": "e770bc89",
   "metadata": {},
   "outputs": [
    {
     "name": "stdout",
     "output_type": "stream",
     "text": [
      "naked_50 profit: 2.4321969696969696\n",
      "naked_dte profit: 4.09875\n",
      "verticle_50 profit: 1.0998360655737704\n",
      "verticle_dte profit: 1.7695652173913041\n"
     ]
    }
   ],
   "source": [
    "for study in profit_put_sell_study_dict:\n",
    "    average_profit = (profit_put_sell_study_dict[study]['PROFIT'].sum() / len(profit_put_sell_study_dict[study]))\n",
    "    print(study, 'profit:', average_profit)"
   ]
  },
  {
   "cell_type": "code",
   "execution_count": 5,
   "id": "b1a3ddb5",
   "metadata": {},
   "outputs": [
    {
     "name": "stdout",
     "output_type": "stream",
     "text": [
      "naked_50 profit: -13.818999999999999\n",
      "naked_dte profit: -12.07625\n",
      "verticle_50 profit: -5.534285714285715\n",
      "verticle_dte profit: -5.109999999999999\n"
     ]
    }
   ],
   "source": [
    "for study in loss_put_sell_study_dict:\n",
    "    average_loss = (loss_put_sell_study_dict[study]['PROFIT'].sum() / len(loss_put_sell_study_dict[study]))\n",
    "    print(study, 'profit:', average_loss)"
   ]
  },
  {
   "cell_type": "markdown",
   "id": "db2e3d95",
   "metadata": {},
   "source": [
    "# Calculating Vertical profit\n",
    "profit is calculated by `Amount rec - Amount buyback`\n",
    "\n",
    "What happens if we are comparing two different dataframe and one dataframe recieves more money?\n",
    "\n",
    "When trading Vertical, amount received is based on the width(risk) of our trade\n",
    "- `width = (sold strike - bought strike)`\n",
    "- if the width is wider, more risk is added meaning we will receieve more money.\n",
    "\n",
    "For example, if df1 contains mainly 5 points spread while df2 mainly has 10 points spread, df2 will have higher average money recieved and our normal profit equation will not fit into this situation\n",
    "    \n",
    "# How can we add width(risk) into consideration when calculating profit?\n",
    "\n",
    "- ROI(Return of Capital) is calculated by (net profit / amount risked)\n",
    "    - This equation can't be used on naked option since risk is unlimited\n",
    "    - This is useful for Vertical trade since risk is determined\n",
    "    \n",
    "# ROI vs Profit\n",
    "- ROI measures the % return on capital you used. That means the number can exceed 100%\n",
    "- Profit measures the performance of your trade. It can not exceed 100%"
   ]
  },
  {
   "cell_type": "code",
   "execution_count": 6,
   "id": "f8ca4a45",
   "metadata": {},
   "outputs": [],
   "source": [
    "def add_roi(df):\n",
    "    output = df.copy()\n",
    "    roi_list = []\n",
    "    for row in range(len(df)):\n",
    "        profit = df['PROFIT'][row]\n",
    "        risk = df['AMOUNT_RISKED'][row]\n",
    "        roi = (profit / risk).round(2)\n",
    "        roi_list.append(roi)\n",
    "    \n",
    "    output = output.assign(ROI = roi_list)\n",
    "    output = output.reset_index(drop=True)\n",
    "    return output"
   ]
  },
  {
   "cell_type": "markdown",
   "id": "11736744",
   "metadata": {},
   "source": [
    "Creates a dataframe with roi column and use that column to calculate the values we are looking for"
   ]
  },
  {
   "cell_type": "code",
   "execution_count": 7,
   "id": "363abbf9",
   "metadata": {},
   "outputs": [
    {
     "name": "stdout",
     "output_type": "stream",
     "text": [
      "Average ROI for vert_50: 0.04\n",
      "Average ROI for vert_dte: 0.08\n",
      "vert_dte performed 100.0 % better than vert_50\n"
     ]
    }
   ],
   "source": [
    "roi_vert_50_df = add_roi(put_sell_study_dict['verticle_50'])\n",
    "average_roi_vert_50 = (roi_vert_50_df['ROI'].sum() / len(roi_vert_50_df['ROI'])).round(2)\n",
    "\n",
    "roi_vert_dte_df = add_roi(put_sell_study_dict['verticle_dte'])\n",
    "average_roi_vert_dte = (roi_vert_dte_df['ROI'].sum() / len(roi_vert_dte_df['ROI'])).round(2)\n",
    "\n",
    "performance_diff = (((average_roi_vert_dte - average_roi_vert_50) / average_roi_vert_50) * 100).round(2)\n",
    "\n",
    "print('Average ROI for vert_50:', average_roi_vert_50)\n",
    "print('Average ROI for vert_dte:', average_roi_vert_dte)\n",
    "print('vert_dte performed', performance_diff,'% better than vert_50')"
   ]
  },
  {
   "cell_type": "code",
   "execution_count": 8,
   "id": "a8cc3943",
   "metadata": {},
   "outputs": [
    {
     "name": "stdout",
     "output_type": "stream",
     "text": [
      "Average profit for vert_50: 0.42\n",
      "Average profit for vert_dte: 0.54\n",
      "vert_dte performed 28.57 % better than vert_50\n"
     ]
    }
   ],
   "source": [
    "profit_vert_50_df = put_sell_study_dict['verticle_50']['PROFIT']\n",
    "average_profit_vert_50 = (profit_vert_50_df.sum() / len(profit_vert_50_df)).round(2)\n",
    "\n",
    "profit_vert_dte_df = put_sell_study_dict['verticle_dte']['PROFIT']\n",
    "average_profit_vert_dte = (profit_vert_dte_df.sum() / len(profit_vert_dte_df)).round(2)\n",
    "\n",
    "performance_diff = (((average_profit_vert_dte - average_profit_vert_50) / average_profit_vert_50) * 100).round(2)\n",
    "\n",
    "print('Average profit for vert_50:', average_profit_vert_50)\n",
    "print('Average profit for vert_dte:', average_profit_vert_dte)\n",
    "print('vert_dte performed', performance_diff,'% better than vert_50')"
   ]
  },
  {
   "cell_type": "markdown",
   "id": "d5ff1bbe",
   "metadata": {},
   "source": [
    "It is expected that vert_dte would perform better than vert_50 because you are receiving more money upfront.\n",
    "\n",
    "We have found that\n",
    "- performance of Average ROI of vert_dte compared to vert_50 performed `100%` better than the performance of Average profit of vert_dte to vert_50.\n",
    "\n",
    "# Takeaway\n",
    "- Profit is used to calculate the performance of the trade not including how much risk you have taken\n",
    "- ROI takes risk(width) into consideration and measures the % return of capital(same as risk) you have used.\n",
    "### If the sole purpose of the trade is to get the highest ROI, naked trade can be a great trade choice."
   ]
  },
  {
   "cell_type": "code",
   "execution_count": null,
   "id": "9e7b7f36",
   "metadata": {},
   "outputs": [],
   "source": []
  }
 ],
 "metadata": {
  "kernelspec": {
   "display_name": "Python 3",
   "language": "python",
   "name": "python3"
  },
  "language_info": {
   "codemirror_mode": {
    "name": "ipython",
    "version": 3
   },
   "file_extension": ".py",
   "mimetype": "text/x-python",
   "name": "python",
   "nbconvert_exporter": "python",
   "pygments_lexer": "ipython3",
   "version": "3.8.8"
  }
 },
 "nbformat": 4,
 "nbformat_minor": 5
}
